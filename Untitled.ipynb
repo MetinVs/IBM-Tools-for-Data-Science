{
 "cells": [
  {
   "cell_type": "code",
   "execution_count": 1,
   "id": "6e52e3f6",
   "metadata": {},
   "outputs": [],
   "source": [
    "# Exercise-2 IBM- Tools for Data Science Task"
   ]
  },
  {
   "cell_type": "code",
   "execution_count": 2,
   "id": "f66ee99e",
   "metadata": {},
   "outputs": [],
   "source": [
    "## Exercise-3 Introduction"
   ]
  },
  {
   "cell_type": "code",
   "execution_count": 7,
   "id": "889e14f9",
   "metadata": {},
   "outputs": [
    {
     "data": {
      "text/plain": [
       "'Data Science Languages\\n1. Pyhton\\n2. R\\n3. Julia\\n4. SQL\\n'"
      ]
     },
     "execution_count": 7,
     "metadata": {},
     "output_type": "execute_result"
    }
   ],
   "source": [
    "''' Exercise-4Data Science Languages\n",
    "1. Pyhton\n",
    "2. R\n",
    "3. Julia\n",
    "4. SQL\n",
    "'''"
   ]
  },
  {
   "cell_type": "code",
   "execution_count": 8,
   "id": "6cb3f5c0",
   "metadata": {},
   "outputs": [
    {
     "data": {
      "text/plain": [
       "'Data Science Libaries\\n1. Numpy\\n2. Pandas\\n3. Seaborn\\n4. Matplotlib\\n5. Scikit-learn\\n6. Tenserflow\\n7. Keras\\n'"
      ]
     },
     "execution_count": 8,
     "metadata": {},
     "output_type": "execute_result"
    }
   ],
   "source": [
    "\"\"\" Exercise-5 Data Science Libaries\n",
    "1. Numpy\n",
    "2. Pandas\n",
    "3. Seaborn\n",
    "4. Matplotlib\n",
    "5. Scikit-learn\n",
    "6. Tenserflow\n",
    "7. Keras\n",
    "\"\"\""
   ]
  },
  {
   "cell_type": "code",
   "execution_count": 9,
   "id": "582621f4",
   "metadata": {},
   "outputs": [
    {
     "data": {
      "text/plain": [
       "' Data Science Tools\\n\\n| Tool Name          | Description                                       |\\n|--------------------|---------------------------------------------------|\\n| **Jupyter Notebook** | Interactive computing and data analysis tool.    |\\n| **RStudio**        | Integrated development environment (IDE) for R.    |\\n| **VS Code**        | Lightweight code editor with excellent Python support.|\\n| **Spyder**         | Powerful IDE for scientific computing with Python. |\\n| **Tableau**        | Data visualization and business intelligence tool.|\\n| **Git**            | Distributed version control system.               |\\n| **Docker**         | Platform for automating containerized applications.|\\n| **Apache Spark**   | Distributed computing system for big data processing.|\\n\\n'"
      ]
     },
     "execution_count": 9,
     "metadata": {},
     "output_type": "execute_result"
    }
   ],
   "source": [
    "\"\"\" Exercise-6 Data Science Tools\n",
    "\n",
    "| Tool Name          | Description                                       |\n",
    "|--------------------|---------------------------------------------------|\n",
    "| **Jupyter Notebook** | Interactive computing and data analysis tool.    |\n",
    "| **RStudio**        | Integrated development environment (IDE) for R.    |\n",
    "| **VS Code**        | Lightweight code editor with excellent Python support.|\n",
    "| **Spyder**         | Powerful IDE for scientific computing with Python. |\n",
    "| **Tableau**        | Data visualization and business intelligence tool.|\n",
    "| **Git**            | Distributed version control system.               |\n",
    "| **Docker**         | Platform for automating containerized applications.|\n",
    "| **Apache Spark**   | Distributed computing system for big data processing.|\n",
    "\n",
    "\"\"\""
   ]
  },
  {
   "cell_type": "code",
   "execution_count": 10,
   "id": "cefc84b2",
   "metadata": {},
   "outputs": [
    {
     "data": {
      "text/plain": [
       "25.0"
      ]
     },
     "execution_count": 10,
     "metadata": {},
     "output_type": "execute_result"
    }
   ],
   "source": [
    "## Exercise-7 Arithmetic Examples\n",
    "#Addition\n",
    "25+11\n",
    "#Minus\n",
    "50-43\n",
    "#Multiplication\n",
    "7*6\n",
    "# Division\n",
    "100/4"
   ]
  },
  {
   "cell_type": "code",
   "execution_count": 11,
   "id": "0f45c8a1",
   "metadata": {},
   "outputs": [],
   "source": [
    "## Exercise-8\n",
    "addition = 25+11\n",
    "Multiply = 6*8"
   ]
  },
  {
   "cell_type": "code",
   "execution_count": 15,
   "id": "1b2a4b69",
   "metadata": {},
   "outputs": [
    {
     "name": "stdout",
     "output_type": "stream",
     "text": [
      "1134\n"
     ]
    }
   ],
   "source": [
    "##  It's 18.54 as I write this code soo I convert this time.\n",
    "now= 60*18+54\n",
    "print(now)\n",
    "hour_now = now/60"
   ]
  },
  {
   "cell_type": "code",
   "execution_count": 16,
   "id": "8e7be17e",
   "metadata": {},
   "outputs": [
    {
     "name": "stdout",
     "output_type": "stream",
     "text": [
      "18.9\n"
     ]
    }
   ],
   "source": [
    "print(hour_now)"
   ]
  },
  {
   "cell_type": "code",
   "execution_count": 17,
   "id": "49877318",
   "metadata": {},
   "outputs": [
    {
     "data": {
      "text/plain": [
       "'\\nExercise 10 -Insert a markdown cell to list Objectives.\\n\\n1. Understand basic arithmetic operations in Python.\\n2. Explore how to convert units, such as minutes to hours.\\n3. Practice using Jupyter Notebook for interactive coding.\\n4. Experiment with different code cells and observe their outputs.\\n5. Have hands-on experience with data science concepts.\\n\\n'"
      ]
     },
     "execution_count": 17,
     "metadata": {},
     "output_type": "execute_result"
    }
   ],
   "source": [
    "\"\"\"\n",
    "Exercise 10 -Insert a markdown cell to list Objectives.\n",
    "\n",
    "1. Understand basic arithmetic operations in Python.\n",
    "2. Explore how to convert units, such as minutes to hours.\n",
    "3. Practice using Jupyter Notebook for interactive coding.\n",
    "4. Experiment with different code cells and observe their outputs.\n",
    "5. Have hands-on experience with data science concepts.\n",
    "\n",
    "\"\"\""
   ]
  },
  {
   "cell_type": "code",
   "execution_count": 18,
   "id": "efad3da9",
   "metadata": {},
   "outputs": [
    {
     "data": {
      "text/plain": [
       "'\\nExercise 11 - Create a markdown cell to indicate the Author’s name.\\n\\nThis notebook written by Metin Mirza Vatansever.\\n\\n'"
      ]
     },
     "execution_count": 18,
     "metadata": {},
     "output_type": "execute_result"
    }
   ],
   "source": [
    "\"\"\"\n",
    "Exercise 11 - Create a markdown cell to indicate the Author’s name.\n",
    "\n",
    "This notebook written by Metin Mirza Vatansever.\n",
    "\n",
    "\"\"\""
   ]
  },
  {
   "cell_type": "code",
   "execution_count": null,
   "id": "a2406024",
   "metadata": {},
   "outputs": [],
   "source": []
  }
 ],
 "metadata": {
  "kernelspec": {
   "display_name": "Python 3 (ipykernel)",
   "language": "python",
   "name": "python3"
  },
  "language_info": {
   "codemirror_mode": {
    "name": "ipython",
    "version": 3
   },
   "file_extension": ".py",
   "mimetype": "text/x-python",
   "name": "python",
   "nbconvert_exporter": "python",
   "pygments_lexer": "ipython3",
   "version": "3.10.9"
  }
 },
 "nbformat": 4,
 "nbformat_minor": 5
}
