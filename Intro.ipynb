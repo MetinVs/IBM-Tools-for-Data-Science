{
  "metadata": {
    "kernelspec": {
      "name": "python",
      "display_name": "Python (Pyodide)",
      "language": "python"
    },
    "language_info": {
      "codemirror_mode": {
        "name": "python",
        "version": 3
      },
      "file_extension": ".py",
      "mimetype": "text/x-python",
      "name": "python",
      "nbconvert_exporter": "python",
      "pygments_lexer": "ipython3",
      "version": "3.8"
    }
  },
  "nbformat_minor": 5,
  "nbformat": 4,
  "cells": [
    {
      "id": "b62f3f01-2ce4-44bf-9195-239c05290fcd",
      "cell_type": "markdown",
      "source": "**IBM- Tools for Data Science Task**",
      "metadata": {}
    },
    {
      "id": "044b03ee-cccc-47e5-983f-20301e897091",
      "cell_type": "markdown",
      "source": "Exercise-3 **Introduction**",
      "metadata": {}
    },
    {
      "id": "8aa38db0-da37-4dea-a235-a5fd452dbcf5",
      "cell_type": "markdown",
      "source": "Exercise-4 **Data Science Languages**\n1. Pyhton\n2. R\n3. Julia\n4. SQL",
      "metadata": {}
    },
    {
      "id": "65b0a386-ba40-44e7-a429-59cb86a7ebae",
      "cell_type": "markdown",
      "source": "Exercise-5 **Data Science Libaries**\n1. Numpy\n2. Pandas\n3. Seaborn\n4. Matplotlib\n5. Scikit-learn\n6. Tenserflow\n7. Keras",
      "metadata": {}
    },
    {
      "id": "0781ea14-3e43-4b17-ba9f-df6703857b40",
      "cell_type": "markdown",
      "source": "Exercise-6 **Data Science Tools**\n\n| Tool Name          | Description                                       |\n|--------------------|---------------------------------------------------|\n| **Jupyter Notebook** | Interactive computing and data analysis tool.    |\n| **RStudio**        | Integrated development environment (IDE) for R.    |\n| **VS Code**        | Lightweight code editor with excellent Python support.|\n| **Spyder**         | Powerful IDE for scientific computing with Python. |\n| **Tableau**        | Data visualization and business intelligence tool.|\n| **Git**            | Distributed version control system.               |\n| **Docker**         | Platform for automating containerized applications.|\n| **Apache Spark**   | Distributed computing system for big data processing.|",
      "metadata": {}
    },
    {
      "id": "3dba8829-7007-40da-9d39-7959e7189e2b",
      "cell_type": "markdown",
      "source": "# Exercise-7 **Arithmetic** \n- Addition\n- Subtraction\n- Multiplication\n- Division\n#Addition\n\n25+11\n\n#Minus\n\n50-43\n\n#Multiplication\n\n7*6\n\n#Division\n\n100/4",
      "metadata": {}
    },
    {
      "id": "a89a50e2-730c-43be-ad3b-53393e1f0288",
      "cell_type": "code",
      "source": "## Exercise-8\naddition = 25+11\nMultiply = 6*8",
      "metadata": {
        "trusted": true
      },
      "outputs": [],
      "execution_count": 1
    },
    {
      "id": "59e4a646-34a2-48cb-9d0b-98868095a0e5",
      "cell_type": "code",
      "source": "minute = 200\nhour = minute/60\nprint(hour)",
      "metadata": {
        "trusted": true
      },
      "outputs": [
        {
          "name": "stdout",
          "text": "3.3333333333333335\n",
          "output_type": "stream"
        }
      ],
      "execution_count": 6
    },
    {
      "id": "882db42c-2669-463b-bc50-a732ca913edd",
      "cell_type": "markdown",
      "source": "Exercise 10 **Insert a markdown cell to list Objectives.**\n\n1. Understand basic arithmetic operations in Python.\n2. Explore how to convert units, such as minutes to hours.\n3. Practice using Jupyter Notebook for interactive coding.\n4. Experiment with different code cells and observe their outputs.\n5. Have hands-on experience with data science concepts.\n",
      "metadata": {}
    },
    {
      "id": "541b4235-999b-496c-bb79-275751101288",
      "cell_type": "markdown",
      "source": "**Author**\n\n    Metin Mirza Vatansever",
      "metadata": {}
    },
    {
      "id": "c72243b0-2179-4234-871a-e66b46ce27b7",
      "cell_type": "code",
      "source": "",
      "metadata": {
        "trusted": true
      },
      "outputs": [],
      "execution_count": null
    }
  ]
}